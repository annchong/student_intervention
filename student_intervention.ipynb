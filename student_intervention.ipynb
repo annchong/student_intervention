{
 "cells": [
  {
   "cell_type": "markdown",
   "metadata": {},
   "source": [
    "# Machine Learning Engineer Nanodegree\n",
    "## Supervised Learning\n",
    "## Project 2: Building a Student Intervention System"
   ]
  },
  {
   "cell_type": "markdown",
   "metadata": {},
   "source": [
    "Welcome to the second project of the Machine Learning Engineer Nanodegree! In this notebook, some template code has already been provided for you, and it will be your job to implement the additional functionality necessary to successfully complete this project. Sections that begin with **'Implementation'** in the header indicate that the following block of code will require additional functionality which you must provide. Instructions will be provided for each section and the specifics of the implementation are marked in the code block with a `'TODO'` statement. Please be sure to read the instructions carefully!\n",
    "\n",
    "In addition to implementing code, there will be questions that you must answer which relate to the project and your implementation. Each section where you will answer a question is preceded by a **'Question X'** header. Carefully read each question and provide thorough answers in the following text boxes that begin with **'Answer:'**. Your project submission will be evaluated based on your answers to each of the questions and the implementation you provide.  \n",
    "\n",
    ">**Note:** Code and Markdown cells can be executed using the **Shift + Enter** keyboard shortcut. In addition, Markdown cells can be edited by typically double-clicking the cell to enter edit mode."
   ]
  },
  {
   "cell_type": "markdown",
   "metadata": {},
   "source": [
    "### Question 1 - Classification vs. Regression\n",
    "*Your goal for this project is to identify students who might need early intervention before they fail to graduate. Which type of supervised learning problem is this, classification or regression? Why?*"
   ]
  },
  {
   "cell_type": "markdown",
   "metadata": {},
   "source": [
    "**Answer: **\n",
    "This is a classification problem as:\n",
    "- it requires the output to be in only one of two distinct categories: 'yes' - early intervention is required; or 'no' early intervention required.\n",
    "- the output variable does <b>not</b> take on continuous values (which would be a feature of regression problems)"
   ]
  },
  {
   "cell_type": "markdown",
   "metadata": {},
   "source": [
    "## Exploring the Data\n",
    "Run the code cell below to load necessary Python libraries and load the student data. Note that the last column from this dataset, `'passed'`, will be our target label (whether the student graduated or didn't graduate). All other columns are features about each student."
   ]
  },
  {
   "cell_type": "code",
   "execution_count": 4,
   "metadata": {
    "collapsed": false
   },
   "outputs": [
    {
     "name": "stdout",
     "output_type": "stream",
     "text": [
      "Student data read successfully!\n"
     ]
    }
   ],
   "source": [
    "# Import libraries\n",
    "import numpy as np\n",
    "import pandas as pd\n",
    "from time import time\n",
    "from sklearn.metrics import f1_score\n",
    "\n",
    "# Read student data\n",
    "student_data = pd.read_csv(\"student-data.csv\")\n",
    "print \"Student data read successfully!\""
   ]
  },
  {
   "cell_type": "markdown",
   "metadata": {},
   "source": [
    "### Implementation: Data Exploration\n",
    "Let's begin by investigating the dataset to determine how many students we have information on, and learn about the graduation rate among these students. In the code cell below, you will need to compute the following:\n",
    "- The total number of students, `n_students`.\n",
    "- The total number of features for each student, `n_features`.\n",
    "- The number of those students who passed, `n_passed`.\n",
    "- The number of those students who failed, `n_failed`.\n",
    "- The graduation rate of the class, `grad_rate`, in percent (%).\n"
   ]
  },
  {
   "cell_type": "code",
   "execution_count": 5,
   "metadata": {
    "collapsed": false
   },
   "outputs": [
    {
     "name": "stdout",
     "output_type": "stream",
     "text": [
      "Total number of students: 395\n",
      "Number of features: 31\n",
      "Number of students who passed: 265\n",
      "Number of students who failed: 130\n",
      "Graduation rate of the class: 0.67%\n"
     ]
    }
   ],
   "source": [
    "# Calculate number of students\n",
    "n_students = student_data.shape[0]\n",
    "\n",
    "# Calculate number of features\n",
    "n_features = student_data.shape[1]\n",
    "\n",
    "# Calculate passing students\n",
    "n_passed = len(student_data[student_data['passed']==\"yes\"])\n",
    "\n",
    "# Calculate failing students\n",
    "n_failed = len(student_data[student_data['passed']==\"no\"])\n",
    "\n",
    "# Calculate graduation rate\n",
    "grad_rate = float(n_passed)/n_students\n",
    "\n",
    "# Print the results\n",
    "print \"Total number of students: {}\".format(n_students)\n",
    "print \"Number of features: {}\".format(n_features)\n",
    "print \"Number of students who passed: {}\".format(n_passed)\n",
    "print \"Number of students who failed: {}\".format(n_failed)\n",
    "print \"Graduation rate of the class: {:.2f}%\".format(grad_rate)"
   ]
  },
  {
   "cell_type": "markdown",
   "metadata": {},
   "source": [
    "## Preparing the Data\n",
    "In this section, we will prepare the data for modeling, training and testing.\n",
    "\n",
    "### Identify feature and target columns\n",
    "It is often the case that the data you obtain contains non-numeric features. This can be a problem, as most machine learning algorithms expect numeric data to perform computations with.\n",
    "\n",
    "Run the code cell below to separate the student data into feature and target columns to see if any features are non-numeric."
   ]
  },
  {
   "cell_type": "code",
   "execution_count": 6,
   "metadata": {
    "collapsed": false
   },
   "outputs": [
    {
     "name": "stdout",
     "output_type": "stream",
     "text": [
      "Feature columns:\n",
      "['school', 'sex', 'age', 'address', 'famsize', 'Pstatus', 'Medu', 'Fedu', 'Mjob', 'Fjob', 'reason', 'guardian', 'traveltime', 'studytime', 'failures', 'schoolsup', 'famsup', 'paid', 'activities', 'nursery', 'higher', 'internet', 'romantic', 'famrel', 'freetime', 'goout', 'Dalc', 'Walc', 'health', 'absences']\n",
      "\n",
      "Target column: passed\n",
      "\n",
      "Feature values:\n",
      "  school sex  age address famsize Pstatus  Medu  Fedu     Mjob      Fjob  \\\n",
      "0     GP   F   18       U     GT3       A     4     4  at_home   teacher   \n",
      "1     GP   F   17       U     GT3       T     1     1  at_home     other   \n",
      "2     GP   F   15       U     LE3       T     1     1  at_home     other   \n",
      "3     GP   F   15       U     GT3       T     4     2   health  services   \n",
      "4     GP   F   16       U     GT3       T     3     3    other     other   \n",
      "\n",
      "    ...    higher internet  romantic  famrel  freetime goout Dalc Walc health  \\\n",
      "0   ...       yes       no        no       4         3     4    1    1      3   \n",
      "1   ...       yes      yes        no       5         3     3    1    1      3   \n",
      "2   ...       yes      yes        no       4         3     2    2    3      3   \n",
      "3   ...       yes      yes       yes       3         2     2    1    1      5   \n",
      "4   ...       yes       no        no       4         3     2    1    2      5   \n",
      "\n",
      "  absences  \n",
      "0        6  \n",
      "1        4  \n",
      "2       10  \n",
      "3        2  \n",
      "4        4  \n",
      "\n",
      "[5 rows x 30 columns]\n"
     ]
    }
   ],
   "source": [
    "# Extract feature columns\n",
    "feature_cols = list(student_data.columns[:-1])\n",
    "\n",
    "# Extract target column 'passed'\n",
    "target_col = student_data.columns[-1] \n",
    "\n",
    "# Show the list of columns\n",
    "print \"Feature columns:\\n{}\".format(feature_cols)\n",
    "print \"\\nTarget column: {}\".format(target_col)\n",
    "\n",
    "# Separate the data into feature data and target data (X_all and y_all, respectively)\n",
    "X_all = student_data[feature_cols]\n",
    "y_all = student_data[target_col]\n",
    "\n",
    "# Show the feature information by printing the first five rows\n",
    "print \"\\nFeature values:\"\n",
    "print X_all.head()"
   ]
  },
  {
   "cell_type": "markdown",
   "metadata": {},
   "source": [
    "### Preprocess Feature Columns\n",
    "\n",
    "As you can see, there are several non-numeric columns that need to be converted! Many of them are simply `yes`/`no`, e.g. `internet`. These can be reasonably converted into `1`/`0` (binary) values.\n",
    "\n",
    "Other columns, like `Mjob` and `Fjob`, have more than two values, and are known as _categorical variables_. The recommended way to handle such a column is to create as many columns as possible values (e.g. `Fjob_teacher`, `Fjob_other`, `Fjob_services`, etc.), and assign a `1` to one of them and `0` to all others.\n",
    "\n",
    "These generated columns are sometimes called _dummy variables_, and we will use the [`pandas.get_dummies()`](http://pandas.pydata.org/pandas-docs/stable/generated/pandas.get_dummies.html?highlight=get_dummies#pandas.get_dummies) function to perform this transformation. Run the code cell below to perform the preprocessing routine discussed in this section."
   ]
  },
  {
   "cell_type": "code",
   "execution_count": 7,
   "metadata": {
    "collapsed": false
   },
   "outputs": [
    {
     "name": "stdout",
     "output_type": "stream",
     "text": [
      "Processed feature columns (48 total features):\n",
      "['school_GP', 'school_MS', 'sex_F', 'sex_M', 'age', 'address_R', 'address_U', 'famsize_GT3', 'famsize_LE3', 'Pstatus_A', 'Pstatus_T', 'Medu', 'Fedu', 'Mjob_at_home', 'Mjob_health', 'Mjob_other', 'Mjob_services', 'Mjob_teacher', 'Fjob_at_home', 'Fjob_health', 'Fjob_other', 'Fjob_services', 'Fjob_teacher', 'reason_course', 'reason_home', 'reason_other', 'reason_reputation', 'guardian_father', 'guardian_mother', 'guardian_other', 'traveltime', 'studytime', 'failures', 'schoolsup', 'famsup', 'paid', 'activities', 'nursery', 'higher', 'internet', 'romantic', 'famrel', 'freetime', 'goout', 'Dalc', 'Walc', 'health', 'absences']\n"
     ]
    }
   ],
   "source": [
    "def preprocess_features(X):\n",
    "    ''' Preprocesses the student data and converts non-numeric binary variables into\n",
    "        binary (0/1) variables. Converts categorical variables into dummy variables. '''\n",
    "    \n",
    "    # Initialize new output DataFrame\n",
    "    output = pd.DataFrame(index = X.index)\n",
    "\n",
    "    # Investigate each feature column for the data\n",
    "    for col, col_data in X.iteritems():\n",
    "        \n",
    "        # If data type is non-numeric, replace all yes/no values with 1/0\n",
    "        if col_data.dtype == object:\n",
    "            col_data = col_data.replace(['yes', 'no'], [1, 0])\n",
    "\n",
    "        # If data type is categorical, convert to dummy variables\n",
    "        if col_data.dtype == object:\n",
    "            # Example: 'school' => 'school_GP' and 'school_MS'\n",
    "            col_data = pd.get_dummies(col_data, prefix = col)  \n",
    "        \n",
    "        # Collect the revised columns\n",
    "        output = output.join(col_data)\n",
    "    \n",
    "    return output\n",
    "\n",
    "X_all = preprocess_features(X_all)\n",
    "print \"Processed feature columns ({} total features):\\n{}\".format(len(X_all.columns), list(X_all.columns))"
   ]
  },
  {
   "cell_type": "markdown",
   "metadata": {},
   "source": [
    "### Implementation: Training and Testing Data Split\n",
    "So far, we have converted all _categorical_ features into numeric values. For the next step, we split the data (both features and corresponding labels) into training and test sets. In the following code cell below, you will need to implement the following:\n",
    "- Randomly shuffle and split the data (`X_all`, `y_all`) into training and testing subsets.\n",
    "  - Use 300 training points (approximately 75%) and 95 testing points (approximately 25%).\n",
    "  - Set a `random_state` for the function(s) you use, if provided.\n",
    "  - Store the results in `X_train`, `X_test`, `y_train`, and `y_test`."
   ]
  },
  {
   "cell_type": "code",
   "execution_count": 8,
   "metadata": {
    "collapsed": false
   },
   "outputs": [
    {
     "name": "stdout",
     "output_type": "stream",
     "text": [
      "Training set has 300 samples.\n",
      "Testing set has 95 samples.\n"
     ]
    }
   ],
   "source": [
    "# Import any additional functionality you may need here\n",
    "from sklearn.cross_validation import train_test_split\n",
    "\n",
    "# Set the number of training points\n",
    "num_train = 300\n",
    "\n",
    "# Set the number of testing points\n",
    "num_test = X_all.shape[0] - num_train\n",
    "\n",
    "# Shuffle and split the dataset into the number of training and testing points above\n",
    "X_train,X_test,y_train,y_test=train_test_split(X_all,y_all,test_size=num_test,random_state=0)\n",
    "\n",
    "# Show the results of the split\n",
    "print \"Training set has {} samples.\".format(X_train.shape[0])\n",
    "print \"Testing set has {} samples.\".format(X_test.shape[0])"
   ]
  },
  {
   "cell_type": "markdown",
   "metadata": {},
   "source": [
    "## Training and Evaluating Models\n",
    "In this section, you will choose 3 supervised learning models that are appropriate for this problem and available in `scikit-learn`. You will first discuss the reasoning behind choosing these three models by considering what you know about the data and each model's strengths and weaknesses. You will then fit the model to varying sizes of training data (100 data points, 200 data points, and 300 data points) and measure the F<sub>1</sub> score. You will need to produce three tables (one for each model) that shows the training set size, training time, prediction time, F<sub>1</sub> score on the training set, and F<sub>1</sub> score on the testing set.\n",
    "\n",
    "**The following supervised learning models are currently available in** [`scikit-learn`](http://scikit-learn.org/stable/supervised_learning.html) **that you may choose from:**\n",
    "- Gaussian Naive Bayes (GaussianNB)\n",
    "- Decision Trees\n",
    "- Ensemble Methods (Bagging, AdaBoost, Random Forest, Gradient Boosting)\n",
    "- K-Nearest Neighbors (KNeighbors)\n",
    "- Stochastic Gradient Descent (SGDC)\n",
    "- Support Vector Machines (SVM)\n",
    "- Logistic Regression"
   ]
  },
  {
   "cell_type": "markdown",
   "metadata": {},
   "source": [
    "### Question 2 - Model Application\n",
    "*List three supervised learning models that are appropriate for this problem. For each model chosen*\n",
    "- Describe one real-world application in industry where the model can be applied. *(You may need to do a small bit of research for this — give references!)* \n",
    "- What are the strengths of the model; when does it perform well? \n",
    "- What are the weaknesses of the model; when does it perform poorly?\n",
    "- What makes this model a good candidate for the problem, given what you know about the data?"
   ]
  },
  {
   "cell_type": "markdown",
   "metadata": {},
   "source": [
    "**Answer: **\n",
    "3 supervised learning models that would be appropriate and their supporting details are listed below:\n",
    "\n",
    "### 1. Decision Trees\n",
    "\n",
    "** Example application:** Decision trees have been used to filter noise from Hubble Space Telescope images.\n",
    "\n",
    "**Advantages:** \n",
    "* easy to interpret and explain.  \n",
    "* It takes into account feature interactions and because it is non parametric, data outliers and the linear separability of the data are less of a concern than with other methods (i.e. splitting happens based on the proportion of samples within the split ranges rather than on absolute values).\n",
    "* Does not require as much data preparation.  For example, a regression model requires data variables to be normalized or scales in order to better fit the model and interpret the model coefficients.  \n",
    "* A decision tree is also not impacted by missing values.\n",
    "* Does not require any assumption of linearity in data and is not impacted by non linear relationships between variables.\n",
    "\n",
    "**Disadvantages:** \n",
    "- Can easily overfit to data (although this can be addressed by ensemble methods like random forests).\n",
    "- Learning algorithm may be non-optimal and suffer from local minima.\n",
    "\n",
    "**Appropriateness for problem:** \n",
    "- Decision trees implicitly perform feature selection and provides and indication of the importance of each feature.  For example, the top few nodes of a tree are the most important within the dataset.  This is desirable for this problem as it not only allows for the identification of students for intervention, it also provides insights into how to intervene.\n",
    "\n",
    "### 2. SVM\n",
    "** Example application:** SVMs have been used in handwriting character recognition problems. It is especially popular in text recognition problems where very high dimensional spaces are the norm.\n",
    "\n",
    "** Advantages:**\n",
    "- good for large feature sets as it is able to separate classes more quickly and with less overfitting than many other algorithms.  It is able to cope with large numbers of features as it does not operate on the source feature space explicitly.  Instead, it only calculates the 'distances' between each data point, which remains invariant with the number of features.  Hence, because instances from the training set only appear as arguments of the kernel function and even though usage of the kernels often then increase feature dimensionality (virtually) up to the infinite dimensional space, the number of 'distances' between data points does not change.  *The trade off, however, is that the number of distances increases dramatically as the number of points increases!* \n",
    "- Has theoretical guarantees with regards to overfitting, and thanks to the kernel trick, it can be used even on data that is not linearly separable in the base feature space. \n",
    "- Kernel trick also allows for the incorporation of expert domain knowledge into solving the problem via the engineering of the kernel.\n",
    "- Resulting learning algorithm is an optimized solution and avoids the 'local minimum' problem of methods like neural nets and decision trees.\n",
    "\n",
    "** Disadvantages:** \n",
    "- hard to interpret and difficult to take into account new data.  Similar to other linear algorithms, it assumes linear class boundaries i.e. assumes that classes can be separated by a straight line (or its higher dimension analog).  This implies that data trends follow a straight line, an assumption which may not be valid for some problems.  \n",
    "- Not efficient if the number of features is very large in comparison to the training samples.\n",
    "- Not especially good for multi class classification as in this instance, it is effectively a binary classifier with some kind of voting mechanism.\n",
    "\n",
    "** Appropriateness for problem:** \n",
    "- The SVM's ability to handle large number of features (31 in this example) and the fact that this is just a binary classification problem makes this a probable learning model.\n",
    "\n",
    "### 3. Logistic Regression\n",
    "\n",
    "** Example application:** logistic regression has been used in healthcare to analyse over a million people for myocardial infarction over a 10 year period.\n",
    "\n",
    "** Advantages:** \n",
    "- fast and simple.  \n",
    "- results have a probabilistic interpretation (unlike SVMs or decision trees) and so this method is especially useful for problems with a probabilistic framework.  \n",
    "- models can be easily updated to take into account new data using a gradient descent method.  Hence, the model is useful in instances when more training data is expected in the future.\n",
    "\n",
    "** Disadvantages:** \n",
    "- Assumes linear class boundaries i.e. assumes that classes can be separated by a straight line (or its higher dimension analog).  This implies that data trends follow a straight line, an assumption which may not be valid for some problems.  However, despite this, linear algorithms like this tend to be a very popular 'first line of attack' as they tend to be algorithmically simpler and faster to train.\n",
    "\n",
    "** Appropriateness for problem:** \n",
    "- As the problem is a binary classification problem, and the result is probabilistic, this method can help to identify those students ***most*** in need of intervention.\n"
   ]
  },
  {
   "cell_type": "markdown",
   "metadata": {},
   "source": [
    "### Setup\n",
    "Run the code cell below to initialize three helper functions which you can use for training and testing the three supervised learning models you've chosen above. The functions are as follows:\n",
    "- `train_classifier` - takes as input a classifier and training data and fits the classifier to the data.\n",
    "- `predict_labels` - takes as input a fit classifier, features, and a target labeling and makes predictions using the F<sub>1</sub> score.\n",
    "- `train_predict` - takes as input a classifier, and the training and testing data, and performs `train_classifier` and `predict_labels`.\n",
    " - This function will report the F<sub>1</sub> score for both the training and testing data separately."
   ]
  },
  {
   "cell_type": "code",
   "execution_count": 9,
   "metadata": {
    "collapsed": false
   },
   "outputs": [],
   "source": [
    "def train_classifier(clf, X_train, y_train):\n",
    "    ''' Fits a classifier to the training data. '''\n",
    "    \n",
    "    # Start the clock, train the classifier, then stop the clock\n",
    "    start = time()\n",
    "    clf.fit(X_train, y_train)\n",
    "    end = time()\n",
    "    \n",
    "    # Print the results\n",
    "    print \"Trained model in {:.4f} seconds\".format(end - start)\n",
    "\n",
    "    \n",
    "def predict_labels(clf, features, target):\n",
    "    ''' Makes predictions using a fit classifier based on F1 score. '''\n",
    "    \n",
    "    # Start the clock, make predictions, then stop the clock\n",
    "    start = time()\n",
    "    y_pred = clf.predict(features)\n",
    "    end = time()\n",
    "    \n",
    "    # Print and return results\n",
    "    print \"Made predictions in {:.4f} seconds.\".format(end - start)\n",
    "    return f1_score(target.values, y_pred, pos_label='yes')\n",
    "\n",
    "\n",
    "def train_predict(clf, X_train, y_train, X_test, y_test):\n",
    "    ''' Train and predict using a classifer based on F1 score. '''\n",
    "    \n",
    "    # Indicate the classifier and the training set size\n",
    "    print \"Training a {} using a training set size of {}. . .\".format(clf.__class__.__name__, len(X_train))\n",
    "    \n",
    "    # Train the classifier\n",
    "    train_classifier(clf, X_train, y_train)\n",
    "    \n",
    "    # Print the results of prediction for both training and testing\n",
    "    print \"F1 score for training set: {:.4f}.\".format(predict_labels(clf, X_train, y_train))\n",
    "    print \"F1 score for test set: {:.4f}.\".format(predict_labels(clf, X_test, y_test))"
   ]
  },
  {
   "cell_type": "markdown",
   "metadata": {},
   "source": [
    "### Implementation: Model Performance Metrics\n",
    "With the predefined functions above, you will now import the three supervised learning models of your choice and run the `train_predict` function for each one. Remember that you will need to train and predict on each classifier for three different training set sizes: 100, 200, and 300. Hence, you should expect to have 9 different outputs below — 3 for each model using the varying training set sizes. In the following code cell, you will need to implement the following:\n",
    "- Import the three supervised learning models you've discussed in the previous section.\n",
    "- Initialize the three models and store them in `clf_A`, `clf_B`, and `clf_C`.\n",
    " - Use a `random_state` for each model you use, if provided.\n",
    " - **Note:** Use the default settings for each model — you will tune one specific model in a later section.\n",
    "- Create the different training set sizes to be used to train each model.\n",
    " - *Do not reshuffle and resplit the data! The new training points should be drawn from `X_train` and `y_train`.*\n",
    "- Fit each model with each training set size and make predictions on the test set (9 in total).  \n",
    "**Note:** Three tables are provided after the following code cell which can be used to store your results."
   ]
  },
  {
   "cell_type": "code",
   "execution_count": 11,
   "metadata": {
    "collapsed": false
   },
   "outputs": [],
   "source": [
    "# Import the three supervised learning models from sklearn\n",
    "from sklearn.tree import DecisionTreeClassifier\n",
    "from sklearn.linear_model import LogisticRegression \n",
    "from sklearn.svm import SVC\n",
    "\n",
    "# Initialize the three models\n",
    "clf_A = DecisionTreeClassifier()\n",
    "clf_B = LogisticRegression()\n",
    "clf_C = SVC()\n",
    "\n",
    "# Set up the training set sizes\n",
    "test_size_100=X_train.shape[0]-100\n",
    "test_size_200=X_train.shape[0]-200\n",
    "test_size_300=X_train.shape[0]-300\n",
    "\n",
    "X_train_100,X_test_100,y_train_100,y_test_100=train_test_split(X_train,y_train,test_size=test_size_100,random_state=0)\n",
    "X_train_200,X_test_200,y_train_200,y_test_200=train_test_split(X_train,y_train,test_size=test_size_200,random_state=0)\n",
    "X_train_300,X_test_300,y_train_300,y_test_300=train_test_split(X_train,y_train,test_size=test_size_300,random_state=0)\n"
   ]
  },
  {
   "cell_type": "code",
   "execution_count": 13,
   "metadata": {
    "collapsed": false
   },
   "outputs": [
    {
     "name": "stdout",
     "output_type": "stream",
     "text": [
      "Training a DecisionTreeClassifier using a training set size of 100. . .\n",
      "Trained model in 0.0020 seconds\n",
      "Made predictions in 0.0000 seconds.\n",
      "F1 score for training set: 1.0000.\n",
      "Made predictions in 0.0000 seconds.\n",
      "F1 score for test set: 0.7000.\n",
      "Training a LogisticRegression using a training set size of 100. . .\n",
      "Trained model in 0.0920 seconds\n",
      "Made predictions in 0.0230 seconds.\n",
      "F1 score for training set: 0.8957.\n",
      "Made predictions in 0.0010 seconds.\n",
      "F1 score for test set: 0.7586.\n",
      "Training a SVC using a training set size of 100. . .\n",
      "Trained model in 0.0010 seconds\n",
      "Made predictions in 0.0010 seconds.\n",
      "F1 score for training set: 0.8837.\n",
      "Made predictions in 0.0010 seconds.\n",
      "F1 score for test set: 0.7662.\n"
     ]
    }
   ],
   "source": [
    "# Execute the 'train_predict' function for each classifier and each training set size\n",
    "# train_predict(clf, X_train, y_train, X_test, y_test)\n",
    "A_100=train_predict(clf_A,X_train_100,y_train_100,X_test,y_test)\n",
    "B_100=train_predict(clf_B,X_train_100,y_train_100,X_test,y_test)\n",
    "C_100=train_predict(clf_C,X_train_100,y_train_100,X_test,y_test)"
   ]
  },
  {
   "cell_type": "code",
   "execution_count": 14,
   "metadata": {
    "collapsed": false
   },
   "outputs": [
    {
     "name": "stdout",
     "output_type": "stream",
     "text": [
      "Training a DecisionTreeClassifier using a training set size of 200. . .\n",
      "Trained model in 0.0020 seconds\n",
      "Made predictions in 0.0010 seconds.\n",
      "F1 score for training set: 1.0000.\n",
      "Made predictions in 0.0000 seconds.\n",
      "F1 score for test set: 0.7519.\n",
      "Training a LogisticRegression using a training set size of 200. . .\n",
      "Trained model in 0.0040 seconds\n",
      "Made predictions in 0.0010 seconds.\n",
      "F1 score for training set: 0.8544.\n",
      "Made predictions in 0.0000 seconds.\n",
      "F1 score for test set: 0.7801.\n",
      "Training a SVC using a training set size of 200. . .\n",
      "Trained model in 0.0110 seconds\n",
      "Made predictions in 0.0030 seconds.\n",
      "F1 score for training set: 0.8820.\n",
      "Made predictions in 0.0010 seconds.\n",
      "F1 score for test set: 0.7651.\n"
     ]
    }
   ],
   "source": [
    "A_200=train_predict(clf_A,X_train_200,y_train_200,X_test,y_test)\n",
    "B_200=train_predict(clf_B,X_train_200,y_train_200,X_test,y_test)\n",
    "C_200=train_predict(clf_C,X_train_200,y_train_200,X_test,y_test)"
   ]
  },
  {
   "cell_type": "code",
   "execution_count": 15,
   "metadata": {
    "collapsed": false
   },
   "outputs": [
    {
     "name": "stdout",
     "output_type": "stream",
     "text": [
      "Training a DecisionTreeClassifier using a training set size of 300. . .\n",
      "Trained model in 0.0080 seconds\n",
      "Made predictions in 0.0000 seconds.\n",
      "F1 score for training set: 1.0000.\n",
      "Made predictions in 0.0010 seconds.\n",
      "F1 score for test set: 0.7395.\n",
      "Training a LogisticRegression using a training set size of 300. . .\n",
      "Trained model in 0.0050 seconds\n",
      "Made predictions in 0.0000 seconds.\n",
      "F1 score for training set: 0.8381.\n",
      "Made predictions in 0.0000 seconds.\n",
      "F1 score for test set: 0.7910.\n",
      "Training a SVC using a training set size of 300. . .\n",
      "Trained model in 0.0180 seconds\n",
      "Made predictions in 0.0060 seconds.\n",
      "F1 score for training set: 0.8692.\n",
      "Made predictions in 0.0020 seconds.\n",
      "F1 score for test set: 0.7586.\n"
     ]
    }
   ],
   "source": [
    "A_300=train_predict(clf_A,X_train_300,y_train_300,X_test,y_test)\n",
    "B_300=train_predict(clf_B,X_train_300,y_train_300,X_test,y_test)\n",
    "C_300=train_predict(clf_C,X_train_300,y_train_300,X_test,y_test)"
   ]
  },
  {
   "cell_type": "markdown",
   "metadata": {},
   "source": [
    "### Tabular Results\n",
    "Edit the cell below to see how a table can be designed in [Markdown](https://github.com/adam-p/markdown-here/wiki/Markdown-Cheatsheet#tables). You can record your results from above in the tables provided."
   ]
  },
  {
   "cell_type": "markdown",
   "metadata": {},
   "source": [
    "** Classifer 1 - Decision Tree**  \n",
    "\n",
    "| Training Set Size | Training Time | Prediction Time (test) | F1 Score (train) | F1 Score (test) |\n",
    "| :---------------: | :---------------------: | :--------------------: | :--------------: | :-------------: |\n",
    "| 100               |        0.0020           | 0.0000                 |        1.00      |      0.7000     |\n",
    "| 200               |        0.0020           | 0.0000                 | 1.00             |      0.7519     |\n",
    "| 300               |        0.0080           | 0.0010                 | 1.00             |     0.7395      |\n",
    "\n",
    "** Classifer 2 - Logistic Regression**  \n",
    "\n",
    "| Training Set Size | Training Time | Prediction Time (test) | F1 Score (train) | F1 Score (test) |\n",
    "| :---------------: | :---------------------: | :--------------------: | :--------------: | :-------------: |\n",
    "| 100               |     0.0920              | 0.0010                 | 0.8957           |    0.7586       |\n",
    "| 200               |     0.0040              | 0.0000                 | 0.8544           |    0.7801       |\n",
    "| 300               |     0.0050              | 0.0000                 | 0.8381           |    0.7910       |\n",
    "\n",
    "** Classifer 3 - Support Vector Classifier**  \n",
    "\n",
    "| Training Set Size | Training Time | Prediction Time (test) | F1 Score (train) | F1 Score (test) |\n",
    "| :---------------: | :---------------------: | :--------------------: | :--------------: | :-------------: |\n",
    "| 100               |     0.0010              | 0.0010                 | 0.8837           |     0.7662      |\n",
    "| 200               |     0.0110              | 0.0010                 | 0.8820           |     0.7651      |\n",
    "| 300               |     0.0180              | 0.0020                 | 0.8692           |     0.7586      |"
   ]
  },
  {
   "cell_type": "markdown",
   "metadata": {},
   "source": [
    "**Comment:** I don't really understand the performance times on the logistic regression model, in particular why it takes so much longer to train and predict a model based on just 100 data points.  I tried this several times and on different machines and have observed the same result.  Is this as expected?"
   ]
  },
  {
   "cell_type": "markdown",
   "metadata": {},
   "source": [
    "## Choosing the Best Model\n",
    "In this final section, you will choose from the three supervised learning models the *best* model to use on the student data. You will then perform a grid search optimization for the model over the entire training set (`X_train` and `y_train`) by tuning at least one parameter to improve upon the untuned model's F<sub>1</sub> score. "
   ]
  },
  {
   "cell_type": "markdown",
   "metadata": {},
   "source": [
    "### Question 3 - Choosing the Best Model\n",
    "*Based on the experiments you performed earlier, in one to two paragraphs, explain to the board of supervisors what single model you chose as the best model. Which model is generally the most appropriate based on the available data, limited resources, cost, and performance?*"
   ]
  },
  {
   "cell_type": "markdown",
   "metadata": {},
   "source": [
    "**Answer: **\n",
    "\n",
    "Dear Board of Supervisors,\n",
    "\n",
    "I write to recommend using a logistic regression model.  I make my recommendation on the basis of the following factors:\n",
    "\n",
    "#### Accuracy\n",
    "- the F1 score is the metric used to measure the accuracy of the model's predictions.  The F1 value reaches its best value at 1, and its worst at 0.  \n",
    "- I have focused my attention on the predictive accuracy of each model on the test set, rather than the training set accuracy as the former is more indicative of the success of the models going forward.\n",
    "- The best test accuracy is observed with SVMs and logistic regression (\"LR\") models.  (In fact, the worst accuracy performance from both the SVM and LR models over all training set sizes is still better than the best performance from the decision tree model.)  \n",
    "- The LR model shows an improvement in its test set predictions as the number of training data points increase.  This is not what has been observed in the SVM (which has the opposite effect i.e. performance worsening as more training data points are introduced) and the decision tree models.  I therefore expect that as more data becomes available in the future, we should witness more improvements in the performance of the LR model.\n",
    "\n",
    "#### Computational Costs\n",
    "##### i. Training time:\n",
    "- the model with the best overall training time performance is the decision tree, followed by logistic regression and SVM.\n",
    "- As the number of training data points increase, the SVM model performance becomes significantly worse (i.e. deteriorates to less than half the speed of the other two models).\n",
    "\n",
    "#### ii. Prediction time:\n",
    "- the models with the best prediction times are the decision tree and LR models.  \n",
    "- in comparison to the other two models, the SVM is very significantly slower in predicting outcomes. \n",
    "\n",
    "\n",
    "In summary, the decision tree model has the best computational performance but the worst accuracy.  Of the two remaining models, the SVM has poorer computational performance.  Hence, my recommendation is to go with the logistic regression model."
   ]
  },
  {
   "cell_type": "markdown",
   "metadata": {},
   "source": [
    "### Question 4 - Model in Layman's Terms\n",
    "*In one to two paragraphs, explain to the board of directors in layman's terms how the final model chosen is supposed to work. Be sure that you are describing the major qualities of the model, such as how the model is trained and how the model makes a prediction. Avoid using advanced mathematical or technical jargon, such as describing equations or discussing the algorithm implementation.*"
   ]
  },
  {
   "cell_type": "markdown",
   "metadata": {},
   "source": [
    "**Answer: **\n",
    "\n",
    "Regression analysis is aimed at allowing us to make predictions of an outcome based on some inputs.  In this instance, the outcome we want to predict is whether a student will fail to graduate.  The inputs we have provided is a range of socio-economic factors such as the student's family background and parents' educational levels.\n",
    "\n",
    "Linear regression is a version of regression analysis which multiplies each input by a coefficient, sums the values and adds a constant.  The output is then simply the result of this calculation.  The training process involves determining the values of the constant and coefficients for each input that best reflect the training data. \n",
    "\n",
    "Logistic regression is a regression method that builds on linear regression by applying a data transformation to force the outputs from the linear regression calculation to take on values between 0 and 1 (the output from linear regression is effectively unbounded i.e. it can be a very large or very small number as well as take on any values in between).  These values can then be interpreted as 'probabilities'.  In this example, the output can be regarded as the 'probability' that a student will fail to graduate.  Instances where the probabilities are >0.5 are then classed as 'yes' and those <=0.5 are classed as 'no'.  The training of a logistic regression model is similar to that for a linear regression model - the constant value and the coefficients of inputs are determined by maximising the accuracy of resulting predictions on the training data."
   ]
  },
  {
   "cell_type": "markdown",
   "metadata": {},
   "source": [
    "### Implementation: Model Tuning\n",
    "Fine tune the chosen model. Use grid search (`GridSearchCV`) with at least one important parameter tuned with at least 3 different values. You will need to use the entire training set for this. In the code cell below, you will need to implement the following:\n",
    "- Import [`sklearn.grid_search.gridSearchCV`](http://scikit-learn.org/stable/modules/generated/sklearn.grid_search.GridSearchCV.html) and [`sklearn.metrics.make_scorer`](http://scikit-learn.org/stable/modules/generated/sklearn.metrics.make_scorer.html).\n",
    "- Create a dictionary of parameters you wish to tune for the chosen model.\n",
    " - Example: `parameters = {'parameter' : [list of values]}`.\n",
    "- Initialize the classifier you've chosen and store it in `clf`.\n",
    "- Create the F<sub>1</sub> scoring function using `make_scorer` and store it in `f1_scorer`.\n",
    " - Set the `pos_label` parameter to the correct value!\n",
    "- Perform grid search on the classifier `clf` using `f1_scorer` as the scoring method, and store it in `grid_obj`.\n",
    "- Fit the grid search object to the training data (`X_train`, `y_train`), and store it in `grid_obj`."
   ]
  },
  {
   "cell_type": "markdown",
   "metadata": {
    "collapsed": false
   },
   "source": [
    "The following are the parameters of the logistic regression model:"
   ]
  },
  {
   "cell_type": "code",
   "execution_count": 12,
   "metadata": {
    "collapsed": false
   },
   "outputs": [
    {
     "data": {
      "text/plain": [
       "{'C': 1.0,\n",
       " 'class_weight': None,\n",
       " 'dual': False,\n",
       " 'fit_intercept': True,\n",
       " 'intercept_scaling': 1,\n",
       " 'max_iter': 100,\n",
       " 'multi_class': 'ovr',\n",
       " 'n_jobs': 1,\n",
       " 'penalty': 'l2',\n",
       " 'random_state': None,\n",
       " 'solver': 'liblinear',\n",
       " 'tol': 0.0001,\n",
       " 'verbose': 0,\n",
       " 'warm_start': False}"
      ]
     },
     "execution_count": 12,
     "metadata": {},
     "output_type": "execute_result"
    }
   ],
   "source": [
    "clf_B.get_params()"
   ]
  },
  {
   "cell_type": "code",
   "execution_count": 13,
   "metadata": {
    "collapsed": false
   },
   "outputs": [
    {
     "name": "stdout",
     "output_type": "stream",
     "text": [
      "yes    59\n",
      "no     36\n",
      "dtype: int64\n"
     ]
    }
   ],
   "source": [
    "# the purpose of this code chunk is to see the distribution of labels in the test set \n",
    "import pandas\n",
    "#ps=pandas.Series([tuple(i) for i in y_test])\n",
    "ps=pandas.Series([(i) for i in y_test])\n",
    "counts=ps.value_counts()\n",
    "print counts"
   ]
  },
  {
   "cell_type": "code",
   "execution_count": 30,
   "metadata": {
    "collapsed": false
   },
   "outputs": [
    {
     "name": "stdout",
     "output_type": "stream",
     "text": [
      "Made predictions in 0.0000 seconds.\n",
      "Tuned model has a training F1 score of 0.8308.\n",
      "Made predictions in 0.0000 seconds.\n",
      "Tuned model has a testing F1 score of 0.7943.\n"
     ]
    }
   ],
   "source": [
    "# Import 'GridSearchCV' and 'make_scorer'\n",
    "from sklearn.grid_search import GridSearchCV\n",
    "#from sklearn.model_selection import GridSearchCV\n",
    "#from sklearn.cross_validation import GridSearchCV\n",
    "from sklearn.metrics import make_scorer\n",
    "from sklearn.metrics import f1_score # for scoring function\n",
    "\n",
    "# Create the parameters list you wish to tune\n",
    "#parameters = [{'penalty':['l1','l2'],'C':[0.1,0.5,1.0]}]\n",
    "parameters = [{'penalty':['l1','l2'],'C':list(np.arange(0.1,1.1,0.1))}]\n",
    "\n",
    "# Initialize the classifier\n",
    "clf = LogisticRegression() \n",
    "\n",
    "# Make an f1 scoring function using 'make_scorer' \n",
    "# Note to self: the F1 score can be interpreted as a weighted average of the precision and recall.  The F1 score reaches\n",
    "# its best value at 1 i.e. the higher the F1 score, the better.\n",
    "# the 'greater_is_better' parameter is set to True even though its default value is True to \n",
    "# make explicit that the higher the F1 score, the better.\n",
    "\n",
    "#f1_scorer = make_scorer(f1_score,average=\"binary\",pos_label='yes',greater_is_better=True)\n",
    "f1_scorer = make_scorer(f1_score,pos_label='yes',greater_is_better=True)\n",
    "\n",
    "# Perform grid search on the classifier using the f1_scorer as the scoring method\n",
    "grid_obj = GridSearchCV(clf, param_grid=parameters,scoring=f1_scorer)\n",
    "\n",
    "\n",
    "# Fit the grid search object to the training data and find the optimal parameters\n",
    "grid_obj.fit(X_train,y_train)\n",
    "\n",
    "# Get the estimator\n",
    "clf = grid_obj.best_estimator_\n",
    "\n",
    "# Report the final F1 score for training and testing after parameter tuning\n",
    "print \"Tuned model has a training F1 score of {:.4f}.\".format(predict_labels(clf, X_train, y_train))\n",
    "print \"Tuned model has a testing F1 score of {:.4f}.\".format(predict_labels(clf, X_test, y_test))"
   ]
  },
  {
   "cell_type": "markdown",
   "metadata": {},
   "source": [
    "### Question 5 - Final F<sub>1</sub> Score\n",
    "*What is the final model's F<sub>1</sub> score for training and testing? How does that score compare to the untuned model?*"
   ]
  },
  {
   "cell_type": "markdown",
   "metadata": {},
   "source": [
    "**Answer: **\n",
    "\n",
    "As per the outputs above and below, when comparing the tuned versus untuned model's F1, the results are as follows:\n",
    "- test data F1: tuned model is higher (0.7943 vs 0.7910)\n",
    "- training data F1: tuned model is lower (0.8308 vs 0.8381)\n",
    "\n",
    "** Query: ** \n",
    "I don't understand the training F1 results.  Isn't the GridSearchCV object/function supposed to find the optimal model by fine tuning the model parameters?  Since the search parameter list contains the default parameters from the initial classifier and is using the same training data and measure of performance, I don't see how this result is possible?  "
   ]
  },
  {
   "cell_type": "code",
   "execution_count": 35,
   "metadata": {
    "collapsed": false
   },
   "outputs": [
    {
     "data": {
      "text/plain": [
       "{'C': 0.20000000000000001,\n",
       " 'class_weight': None,\n",
       " 'dual': False,\n",
       " 'fit_intercept': True,\n",
       " 'intercept_scaling': 1,\n",
       " 'max_iter': 100,\n",
       " 'multi_class': 'ovr',\n",
       " 'n_jobs': 1,\n",
       " 'penalty': 'l1',\n",
       " 'random_state': None,\n",
       " 'solver': 'liblinear',\n",
       " 'tol': 0.0001,\n",
       " 'verbose': 0,\n",
       " 'warm_start': False}"
      ]
     },
     "execution_count": 35,
     "metadata": {},
     "output_type": "execute_result"
    }
   ],
   "source": [
    "clf.get_params()"
   ]
  },
  {
   "cell_type": "code",
   "execution_count": 32,
   "metadata": {
    "collapsed": false
   },
   "outputs": [
    {
     "name": "stdout",
     "output_type": "stream",
     "text": [
      "Training a LogisticRegression using a training set size of 100. . .\n",
      "Trained model in 0.0040 seconds\n",
      "Made predictions in 0.0010 seconds.\n",
      "F1 score for training set: 0.8957.\n",
      "Made predictions in 0.0010 seconds.\n",
      "F1 score for test set: 0.7586.\n",
      "Training a LogisticRegression using a training set size of 200. . .\n",
      "Trained model in 0.0080 seconds\n",
      "Made predictions in 0.0010 seconds.\n",
      "F1 score for training set: 0.8544.\n",
      "Made predictions in 0.0010 seconds.\n",
      "F1 score for test set: 0.7801.\n",
      "Training a LogisticRegression using a training set size of 300. . .\n",
      "Trained model in 0.0080 seconds\n",
      "Made predictions in 0.0010 seconds.\n",
      "F1 score for training set: 0.8381.\n",
      "Made predictions in 0.0000 seconds.\n",
      "F1 score for test set: 0.7910.\n"
     ]
    }
   ],
   "source": [
    "train_predict(clf_B,X_train_100,y_train_100,X_test,y_test)\n",
    "train_predict(clf_B,X_train_200,y_train_200,X_test,y_test)\n",
    "train_predict(clf_B,X_train_300,y_train_300,X_test,y_test)"
   ]
  },
  {
   "cell_type": "code",
   "execution_count": 16,
   "metadata": {
    "collapsed": false
   },
   "outputs": [
    {
     "name": "stdout",
     "output_type": "stream",
     "text": [
      "Training a LogisticRegression using a training set size of 100. . .\n",
      "Trained model in 0.0050 seconds\n",
      "Made predictions in 0.0030 seconds.\n",
      "F1 score for training set: 0.8675.\n",
      "Made predictions in 0.0580 seconds.\n",
      "F1 score for test set: 0.7568.\n",
      "Training a LogisticRegression using a training set size of 200. . .\n",
      "Trained model in 0.0060 seconds\n",
      "Made predictions in 0.0010 seconds.\n",
      "F1 score for training set: 0.8360.\n",
      "Made predictions in 0.0000 seconds.\n",
      "F1 score for test set: 0.7862.\n",
      "Training a LogisticRegression using a training set size of 300. . .\n",
      "Trained model in 0.0040 seconds\n",
      "Made predictions in 0.0000 seconds.\n",
      "F1 score for training set: 0.8261.\n",
      "Made predictions in 0.0000 seconds.\n",
      "F1 score for test set: 0.7883.\n"
     ]
    }
   ],
   "source": [
    "train_predict(clf,X_train_100,y_train_100,X_test,y_test)\n",
    "train_predict(clf,X_train_200,y_train_200,X_test,y_test)\n",
    "train_predict(clf,X_train_300,y_train_300,X_test,y_test)"
   ]
  },
  {
   "cell_type": "markdown",
   "metadata": {},
   "source": [
    "> **Note**: Once you have completed all of the code implementations and successfully answered each question above, you may finalize your work by exporting the iPython Notebook as an HTML document. You can do this by using the menu above and navigating to  \n",
    "**File -> Download as -> HTML (.html)**. Include the finished document along with this notebook as your submission."
   ]
  }
 ],
 "metadata": {
  "anaconda-cloud": {},
  "kernelspec": {
   "display_name": "Python [Root]",
   "language": "python",
   "name": "Python [Root]"
  },
  "language_info": {
   "codemirror_mode": {
    "name": "ipython",
    "version": 2
   },
   "file_extension": ".py",
   "mimetype": "text/x-python",
   "name": "python",
   "nbconvert_exporter": "python",
   "pygments_lexer": "ipython2",
   "version": "2.7.12"
  }
 },
 "nbformat": 4,
 "nbformat_minor": 0
}
